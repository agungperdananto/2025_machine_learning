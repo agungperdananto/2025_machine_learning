{
 "cells": [
  {
   "cell_type": "markdown",
   "id": "1485b5bc",
   "metadata": {},
   "source": [
    "<img src=\"images/image-1.png\"/>\n",
    "<img src=\"images/image-7.png\"/>\n",
    "<img src=\"images/image-2.png\"/>\n",
    "<img src=\"images/image-3.png\"/>\n",
    "<img src=\"images/image-4.png\"/>\n",
    "<img src=\"images/image-5.png\"/>\n",
    "<img src=\"images/image-6.png\"/>\n"
   ]
  },
  {
   "cell_type": "markdown",
   "id": "3ba6105c",
   "metadata": {},
   "source": [
    "## github.com/agungperdananto/2025_machine_learning"
   ]
  },
  {
   "cell_type": "code",
   "execution_count": null,
   "id": "dd0296c8",
   "metadata": {},
   "outputs": [],
   "source": [
    "input = [\n",
    "[1, 1], [1, 0], [0, 1], [1, 1]\n",
    "]\n",
    "lr = [1, 1, 1, 1]\n",
    "weights = [0, 0]\n",
    "bias = 0\n",
    "target =  [ 1, 1, 1, -1]"
   ]
  },
  {
   "cell_type": "code",
   "execution_count": null,
   "id": "b8cbf9cc",
   "metadata": {},
   "outputs": [],
   "source": [
    "def net(x, w, b):\n",
    "    xwi = 0\n",
    "    for xi, wi in zip(x, w):\n",
    "        xwi += xi * wi\n",
    "    return xwi + b\n",
    "\n",
    "def activation(n):\n",
    "    if n > 0.2:\n",
    "        return 1\n",
    "    if n < -0.2:\n",
    "        return -1\n",
    "    return 0"
   ]
  }
 ],
 "metadata": {
  "kernelspec": {
   "display_name": "base",
   "language": "python",
   "name": "python3"
  },
  "language_info": {
   "codemirror_mode": {
    "name": "ipython",
    "version": 3
   },
   "file_extension": ".py",
   "mimetype": "text/x-python",
   "name": "python",
   "nbconvert_exporter": "python",
   "pygments_lexer": "ipython3",
   "version": "3.11.7"
  }
 },
 "nbformat": 4,
 "nbformat_minor": 5
}
