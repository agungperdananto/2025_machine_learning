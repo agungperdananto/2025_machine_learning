{
 "cells": [
  {
   "cell_type": "markdown",
   "id": "1485b5bc",
   "metadata": {},
   "source": [
    "<img src=\"images/image-1.png\"/>\n",
    "<img src=\"images/image-7.png\"/>\n",
    "<img src=\"images/image-ext-5.png\"/>\n",
    "<img src=\"images/image-ext-3.png\"/>\n",
    "<img src=\"images/image-ext-1.png\"/>\n",
    "<img src=\"images/image-2.png\"/>\n",
    "<img src=\"images/image-3.png\"/>\n",
    "<img src=\"images/image-4.png\"/>\n",
    "<img src=\"images/image-5.png\"/>\n",
    "<img src=\"images/image-6.png\"/>\n"
   ]
  },
  {
   "cell_type": "markdown",
   "id": "3ba6105c",
   "metadata": {},
   "source": [
    "## github.com/agungperdananto/2025_machine_learning"
   ]
  },
  {
   "cell_type": "code",
   "execution_count": 134,
   "id": "dd0296c8",
   "metadata": {},
   "outputs": [],
   "source": [
    "input = [\n",
    "[1, 1], [1, 0], [0, 1], [0, 0]\n",
    "]\n",
    "lr = [1, 1, 1, 1]\n",
    "weights = [0, 0]\n",
    "bias = 0\n",
    "target =  [ 1, 1, 1, -1]"
   ]
  },
  {
   "cell_type": "code",
   "execution_count": 147,
   "id": "b8cbf9cc",
   "metadata": {},
   "outputs": [],
   "source": [
    "def net(x, w, b):\n",
    "    xwi = 0\n",
    "    for xi, wi in zip(x, w):\n",
    "        # print(xi, wi)\n",
    "        xwi += xi * wi\n",
    "    return xwi + b\n",
    "\n",
    "def activation(n):\n",
    "    if n > 0.2:\n",
    "        return 1\n",
    "    if n < -0.2:\n",
    "        return -1\n",
    "    return 0"
   ]
  },
  {
   "cell_type": "code",
   "execution_count": 148,
   "id": "8b8e2fc2",
   "metadata": {},
   "outputs": [],
   "source": [
    "def weight_bias_adjustment(w, b, x, t, y, lr):\n",
    "    e = t - y\n",
    "    w_new = []\n",
    "    for i in range(len(w)):\n",
    "        # print(f\"w[{i}] = {w[i]} + {lr} * {e} * {x[i]}\")\n",
    "        w_new.append(w[i] + lr * e * x[i])\n",
    "    w = w_new if e != 0 else w\n",
    "    b = b + lr * e if e != 0 else b\n",
    "\n",
    "    return w, b\n"
   ]
  },
  {
   "cell_type": "code",
   "execution_count": null,
   "id": "fa7058a4",
   "metadata": {},
   "outputs": [
    {
     "name": "stdout",
     "output_type": "stream",
     "text": [
      "1 0\n",
      "1 0\n",
      "w[0] = 0 + 1 * 1 * 1\n",
      "w[1] = 0 + 1 * 1 * 1\n",
      "net:0, y:0, t: 1\n",
      "w: [1, 1], b: 1\n"
     ]
    }
   ],
   "source": [
    "# epoch 1\n",
    "# row 1\n",
    "row = 1\n",
    "index = row - 1\n",
    "x = input[index]\n",
    "weights = weights\n",
    "t = target[index]\n",
    "bias = bias\n",
    "alpha = lr[index]\n",
    "\n",
    "# calculate\n",
    "n = net(x, weights, bias)\n",
    "y = activation(n)\n",
    "\n",
    "weights, bias = weight_bias_adjustment(weights, bias, x,t, y, alpha)\n",
    "print(f\"net:{n}, y:{y}, t: {t}\")\n",
    "print(f\"w: {weights}, b: {bias}\")"
   ]
  },
  {
   "cell_type": "code",
   "execution_count": 143,
   "id": "b4858d51",
   "metadata": {},
   "outputs": [
    {
     "name": "stdout",
     "output_type": "stream",
     "text": [
      "1 1\n",
      "0 1\n",
      "w[0] = 1 + 1 * 0 * 1\n",
      "w[1] = 1 + 1 * 0 * 0\n",
      "net:2, y:1, t: 1\n",
      "w: [1, 1], b: 1\n"
     ]
    }
   ],
   "source": [
    "# epoch 1\n",
    "# row 2\n",
    "row = 2\n",
    "index = row - 1\n",
    "x = input[index]\n",
    "weights = weights\n",
    "t = target[index]\n",
    "b = bias\n",
    "alpha = lr[index]\n",
    "\n",
    "# calculate\n",
    "n = net(x, weights, bias)\n",
    "y = activation(n)\n",
    "\n",
    "weights, bias = weight_bias_adjustment(weights, b, x, t, y, alpha)\n",
    "print(f\"net:{n}, y:{y}, t: {t}\")\n",
    "print(f\"w: {weights}, b: {b}\")"
   ]
  },
  {
   "cell_type": "code",
   "execution_count": 144,
   "id": "348a1240",
   "metadata": {},
   "outputs": [
    {
     "name": "stdout",
     "output_type": "stream",
     "text": [
      "0 1\n",
      "1 1\n",
      "w[0] = 1 + 1 * 0 * 0\n",
      "w[1] = 1 + 1 * 0 * 1\n",
      "net:2, y:1, t: 1\n",
      "w: [1, 1], b: 1\n"
     ]
    }
   ],
   "source": [
    "# epoch 1\n",
    "# row 3\n",
    "row = 3\n",
    "index = row - 1\n",
    "x = input[index]\n",
    "weights = weights\n",
    "t = target[index]\n",
    "b = bias\n",
    "alpha = lr[index]\n",
    "\n",
    "# calculate\n",
    "n = net(x, weights, bias)\n",
    "y = activation(n)\n",
    "\n",
    "weights, bias = weight_bias_adjustment(weights, b, x, t, y, alpha)\n",
    "print(f\"net:{n}, y:{y}, t: {t}\")\n",
    "print(f\"w: {weights}, b: {b}\")"
   ]
  },
  {
   "cell_type": "code",
   "execution_count": 145,
   "id": "09688c59",
   "metadata": {},
   "outputs": [
    {
     "name": "stdout",
     "output_type": "stream",
     "text": [
      "0 1\n",
      "0 1\n",
      "w[0] = 1 + 1 * -2 * 0\n",
      "w[1] = 1 + 1 * -2 * 0\n",
      "net:1, y:1, t: -1\n",
      "w: [1, 1], b: 1\n"
     ]
    }
   ],
   "source": [
    "# epoch 1\n",
    "# row 4\n",
    "row = 4\n",
    "index = row - 1\n",
    "x = input[index]\n",
    "weights = weights\n",
    "t = target[index]\n",
    "b = bias\n",
    "alpha = lr[index]\n",
    "\n",
    "# calculate\n",
    "n = net(x, weights, bias)\n",
    "y = activation(n)\n",
    "\n",
    "weights, bias = weight_bias_adjustment(weights, b, x, t, y, alpha)\n",
    "print(f\"net:{n}, y:{y}, t: {t}\")\n",
    "print(f\"w: {weights}, b: {b}\")"
   ]
  },
  {
   "cell_type": "code",
   "execution_count": 151,
   "id": "9244cf42",
   "metadata": {},
   "outputs": [
    {
     "name": "stdout",
     "output_type": "stream",
     "text": [
      "epoch: 1\n",
      "===================================\n",
      "x1 | x2 | net | y | t | w1 | w2 | b\n",
      "1  | 1  | 0 | 0 | 1 | 1  | 1  | 0\n",
      "1  | 0  | 2 | 1 | 1 | 1  | 1  | 1\n",
      "0  | 1  | 2 | 1 | 1 | 1  | 1  | 1\n",
      "0  | 0  | 1 | 1 | -1 | 1  | 1  | 1\n",
      "===================================\n",
      "epoch: 2\n",
      "===================================\n",
      "x1 | x2 | net | y | t | w1 | w2 | b\n",
      "1  | 1  | 1 | 1 | 1 | 1  | 1  | -1\n",
      "1  | 0  | 0 | 0 | 1 | 2  | 1  | -1\n",
      "0  | 1  | 1 | 1 | 1 | 2  | 1  | 0\n",
      "0  | 0  | 0 | 0 | -1 | 2  | 1  | 0\n",
      "===================================\n",
      "epoch: 3\n",
      "===================================\n",
      "x1 | x2 | net | y | t | w1 | w2 | b\n",
      "1  | 1  | 2 | 1 | 1 | 2  | 1  | -1\n",
      "1  | 0  | 1 | 1 | 1 | 2  | 1  | -1\n",
      "0  | 1  | 0 | 0 | 1 | 2  | 2  | -1\n",
      "0  | 0  | 0 | 0 | -1 | 2  | 2  | 0\n",
      "===================================\n",
      "epoch: 4\n",
      "===================================\n",
      "x1 | x2 | net | y | t | w1 | w2 | b\n",
      "1  | 1  | 3 | 1 | 1 | 2  | 2  | -1\n",
      "1  | 0  | 1 | 1 | 1 | 2  | 2  | -1\n",
      "0  | 1  | 1 | 1 | 1 | 2  | 2  | -1\n",
      "0  | 0  | -1 | -1 | -1 | 2  | 2  | -1\n",
      "===================================\n",
      "epoch: 5\n",
      "===================================\n",
      "x1 | x2 | net | y | t | w1 | w2 | b\n",
      "1  | 1  | 3 | 1 | 1 | 2  | 2  | -1\n",
      "1  | 0  | 1 | 1 | 1 | 2  | 2  | -1\n",
      "0  | 1  | 1 | 1 | 1 | 2  | 2  | -1\n",
      "0  | 0  | -1 | -1 | -1 | 2  | 2  | -1\n",
      "===================================\n"
     ]
    }
   ],
   "source": [
    "# epoch attempt\n",
    "#  --- IGNORE ---\n",
    "input = [\n",
    "[1, 1], [1, 0], [0, 1], [0, 0]\n",
    "]\n",
    "lr = [1, 1, 1, 1]\n",
    "weights = [0, 0]\n",
    "bias = 0\n",
    "target =  [ 1, 1, 1, -1]\n",
    "\n",
    "for epoch in range(5):\n",
    "    print(f\"epoch: {epoch+1}\")\n",
    "    print(\"===================================\")\n",
    "    print(f\"x1 | x2 | net | y | t | w1 | w2 | b\")\n",
    "    for row in range(1, 5):\n",
    "        index = row - 1\n",
    "        x = input[index]\n",
    "        weights = weights\n",
    "        t = target[index]\n",
    "        b = bias\n",
    "        alpha = lr[index]\n",
    "\n",
    "        # calculate\n",
    "        n = net(x, weights, bias)\n",
    "        y = activation(n)\n",
    "\n",
    "        weights, bias = weight_bias_adjustment(weights, b, x, t, y, alpha)\n",
    "        print(f\"{x[0]}  | {x[1]}  | {n} | {y} | {t} | {weights[0]}  | {weights[1]}  | {b}\")\n",
    "        # print(f\"net:{n}, y:{y}, t: {t}\")\n",
    "        # print(f\"w: {weights}, b: {b}\")\n",
    "    print(\"===================================\")"
   ]
  }
 ],
 "metadata": {
  "kernelspec": {
   "display_name": "base",
   "language": "python",
   "name": "python3"
  },
  "language_info": {
   "codemirror_mode": {
    "name": "ipython",
    "version": 3
   },
   "file_extension": ".py",
   "mimetype": "text/x-python",
   "name": "python",
   "nbconvert_exporter": "python",
   "pygments_lexer": "ipython3",
   "version": "3.11.7"
  }
 },
 "nbformat": 4,
 "nbformat_minor": 5
}
