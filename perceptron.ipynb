{
 "cells": [
  {
   "cell_type": "markdown",
   "id": "1485b5bc",
   "metadata": {},
   "source": [
    "<img src=\"images/image-1.png\"/>\n",
    "<img src=\"images/image-7.png\"/>\n",
    "<img src=\"images/image-2.png\"/>\n",
    "<img src=\"images/image-3.png\"/>\n",
    "<img src=\"images/image-4.png\"/>\n",
    "<img src=\"images/image-5.png\"/>\n",
    "<img src=\"images/image-6.png\"/>\n"
   ]
  },
  {
   "cell_type": "markdown",
   "id": "3ba6105c",
   "metadata": {},
   "source": [
    "## github.com/agungperdananto/2025_machine_learning"
   ]
  }
 ],
 "metadata": {
  "language_info": {
   "name": "python"
  }
 },
 "nbformat": 4,
 "nbformat_minor": 5
}
