{
 "cells": [
  {
   "cell_type": "markdown",
   "id": "dae084f4",
   "metadata": {},
   "source": [
    "Mahasiswa membuat model klasifikasi untuk memprediksi kelas dari suatu dataset (misal: deteksi penyakit, klasifikasi bunga, prediksi kelulusan, dsb).\n",
    "\n",
    "Langkah-langkah:\n",
    "\t1.\tPilih dataset dengan variabel target kategorikal (misal: Iris, Titanic, atau dataset pilihan sendiri).\n",
    "\t2.\tLakukan EDA dan preprocessing seperti pada bagian regresi.\n",
    "\t3.\tGunakan minimal dua algoritma klasifikasi, misalnya:\n",
    "\t    a. Logistic Regression\n",
    "\t    b. Decision Tree\n",
    "\t    c. K-Nearest Neighbors\n",
    "\t    d. Support Vector Machine\n",
    "\t4.\tLakukan evaluasi model menggunakan:\n",
    "        a. Confusion Matrix\n",
    "\t    b. Accuracy, Precision, Recall, F1-score\n",
    "\t    c. ROC Curve (jika memungkinkan)\n",
    "\t5.\tBandingkan hasil antar model dan tulis kesimpulan.\n",
    "\n",
    "Output yang diharapkan:\n",
    "\t1. Notebook .ipynb atau file .py\n",
    "\t2. Laporan singkat (maks. 3 halaman) berisi:\n",
    "\t3. Deskripsi dataset\n",
    "\t4. Model yang digunakan\n",
    "\t5. Hasil evaluasi dan pembahasan"
   ]
  }
 ],
 "metadata": {
  "language_info": {
   "name": "python"
  }
 },
 "nbformat": 4,
 "nbformat_minor": 5
}
